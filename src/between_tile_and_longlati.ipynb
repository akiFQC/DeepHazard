{
  "nbformat": 4,
  "nbformat_minor": 0,
  "metadata": {
    "colab": {
      "name": "tile_to_longlati.ipynb",
      "provenance": []
    },
    "kernelspec": {
      "name": "python3",
      "display_name": "Python 3"
    }
  },
  "cells": [
    {
      "cell_type": "markdown",
      "metadata": {
        "id": "PGjRWPlDGeAC"
      },
      "source": [
        "[xMin, yMin, xMax, yMax] = henkan(x, y, z) 右上と左下（南西端と北東端)"
      ]
    },
    {
      "cell_type": "code",
      "metadata": {
        "id": "_vg3LyZtC283"
      },
      "source": [
        "from math import pi\n",
        "from math import e, log\n",
        "from math import atan, tan\n",
        "\n",
        "def tile2longlati(x, y, z):\n",
        "\tlong_west = (x / 2.0**z) * 360 - 180 # 西端経度\n",
        "\tlong_east = ((x+1) / 2.0**z) * 360 - 180 # 東端経度\n",
        "\tmap_y1 = (y / 2.0**z) * 2 * pi - pi\n",
        "\tmap_y2 = ((y+1) / 2.0**z) * 2 * pi - pi\n",
        "\tlati_north = 2 * atan(e ** (- map_y1)) * 180 / pi - 90 # 北端緯度\n",
        "\tlati_south = 2 * atan(e ** (- map_y2)) * 180 / pi - 90 # 南端緯度\n",
        "\treturn lati_south, long_west, lati_north, long_east #南端、西端、北端、東端\n",
        "\n",
        "def longlati2tile(long, lati, z): #タイルの北西端の緯度経度からタイル座標を返します\n",
        "\tx = int((long + 180) / 360 * pow(2,z))\n",
        "\ty = int((-log(tan((lati + 90) * pi / 360)) + pi) / (2*pi) * (pow(2,z)))\n",
        "\treturn x,y"
      ],
      "execution_count": 4,
      "outputs": []
    },
    {
      "cell_type": "code",
      "metadata": {
        "id": "mMptZyG0G4g7",
        "outputId": "c1078bdc-5895-4fd4-edaa-6c54d223418e",
        "colab": {
          "base_uri": "https://localhost:8080/",
          "height": 34
        }
      },
      "source": [
        "tile2longlati(0,0,0) #世界全体を覆うタイルです"
      ],
      "execution_count": 28,
      "outputs": [
        {
          "output_type": "execute_result",
          "data": {
            "text/plain": [
              "(-85.05112877980659, -180.0, 85.05112877980659, 180.0)"
            ]
          },
          "metadata": {
            "tags": []
          },
          "execution_count": 28
        }
      ]
    },
    {
      "cell_type": "code",
      "metadata": {
        "id": "MLfQj5jdG8xX",
        "outputId": "4cf7e8c9-3169-4366-b002-6208c90d300b",
        "colab": {
          "base_uri": "https://localhost:8080/",
          "height": 34
        }
      },
      "source": [
        "tile2longlati(255, 255, 8) #南東端にあるタイルです"
      ],
      "execution_count": 31,
      "outputs": [
        {
          "output_type": "execute_result",
          "data": {
            "text/plain": [
              "(-85.05112877980659, 178.59375, -84.92832092949963, 180.0)"
            ]
          },
          "metadata": {
            "tags": []
          },
          "execution_count": 31
        }
      ]
    },
    {
      "cell_type": "code",
      "metadata": {
        "id": "mDYcIx1mHM1y",
        "outputId": "36336dc0-5aad-419b-82cb-32a01df4db37",
        "colab": {
          "base_uri": "https://localhost:8080/",
          "height": 34
        }
      },
      "source": [
        "tile2longlati(14567,6430,14)"
      ],
      "execution_count": 35,
      "outputs": [
        {
          "output_type": "execute_result",
          "data": {
            "text/plain": [
              "(36.049098959065645, 140.07568359375, 36.06686213257889, 140.09765625)"
            ]
          },
          "metadata": {
            "tags": []
          },
          "execution_count": 35
        }
      ]
    },
    {
      "cell_type": "code",
      "metadata": {
        "id": "URsMX9NYIAXA",
        "outputId": "2c271505-49bf-4b76-db72-279f4e463c01",
        "colab": {
          "base_uri": "https://localhost:8080/",
          "height": 34
        }
      },
      "source": [
        "tile2longlati(0,0,1)"
      ],
      "execution_count": 21,
      "outputs": [
        {
          "output_type": "execute_result",
          "data": {
            "text/plain": [
              "(84.9901001802348, -180.0, 85.05112877980659, -179.296875)"
            ]
          },
          "metadata": {
            "tags": []
          },
          "execution_count": 21
        }
      ]
    },
    {
      "cell_type": "code",
      "metadata": {
        "id": "CdM1jSlYQADH",
        "outputId": "edb914b6-2d92-4647-ae86-8d8d1bc6b5b1",
        "colab": {
          "base_uri": "https://localhost:8080/",
          "height": 34
        }
      },
      "source": [
        "longlati2tile(140.087099,36.104665,14)"
      ],
      "execution_count": 5,
      "outputs": [
        {
          "output_type": "execute_result",
          "data": {
            "text/plain": "(14567, 6427)"
          },
          "metadata": {},
          "execution_count": 5
        }
      ]
    },
    {
      "cell_type": "code",
      "metadata": {
        "id": "06NKSCbFQN1b",
        "outputId": "f263201a-7053-4ea9-8e47-4ff1a3a29d7c",
        "colab": {
          "base_uri": "https://localhost:8080/",
          "height": 302
        }
      },
      "source": [
        "N = int(input())\n",
        "for i in range(1<<N):\n",
        "    for j in range(1<<N):\n",
        "        print(i,j,tile2longlati(i,j,N))"
      ],
      "execution_count": 34,
      "outputs": [
        {
          "output_type": "stream",
          "text": [
            "2\n",
            "0 0 (66.51326044311185, -180.0, 85.05112877980659, -90.0)\n",
            "0 1 (0.0, -180.0, 66.51326044311185, -90.0)\n",
            "0 2 (-66.51326044311186, -180.0, 0.0, -90.0)\n",
            "0 3 (-85.05112877980659, -180.0, -66.51326044311186, -90.0)\n",
            "1 0 (66.51326044311185, -90.0, 85.05112877980659, 0.0)\n",
            "1 1 (0.0, -90.0, 66.51326044311185, 0.0)\n",
            "1 2 (-66.51326044311186, -90.0, 0.0, 0.0)\n",
            "1 3 (-85.05112877980659, -90.0, -66.51326044311186, 0.0)\n",
            "2 0 (66.51326044311185, 0.0, 85.05112877980659, 90.0)\n",
            "2 1 (0.0, 0.0, 66.51326044311185, 90.0)\n",
            "2 2 (-66.51326044311186, 0.0, 0.0, 90.0)\n",
            "2 3 (-85.05112877980659, 0.0, -66.51326044311186, 90.0)\n",
            "3 0 (66.51326044311185, 90.0, 85.05112877980659, 180.0)\n",
            "3 1 (0.0, 90.0, 66.51326044311185, 180.0)\n",
            "3 2 (-66.51326044311186, 90.0, 0.0, 180.0)\n",
            "3 3 (-85.05112877980659, 90.0, -66.51326044311186, 180.0)\n"
          ],
          "name": "stdout"
        }
      ]
    },
    {
      "cell_type": "code",
      "metadata": {
        "id": "8SfNRfchRyU7"
      },
      "source": [
        ""
      ],
      "execution_count": null,
      "outputs": []
    }
  ]
}