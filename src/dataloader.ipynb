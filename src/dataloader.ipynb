{
  "nbformat": 4,
  "nbformat_minor": 0,
  "metadata": {
    "colab": {
      "name": "dataloader.ipynb",
      "provenance": [],
      "collapsed_sections": []
    },
    "kernelspec": {
      "name": "python3",
      "display_name": "Python 3"
    }
  },
  "cells": [
    {
      "cell_type": "code",
      "metadata": {
        "id": "0JwaBTJ4kXPR"
      },
      "source": [
        "import requests\n",
        "z=14\n",
        "x_min=14500\n",
        "x_max=14600\n",
        "y_min=6400\n",
        "y_max=6500\n",
        "\"\"\"\n",
        "z=15\n",
        "x_min=61000\n",
        "x_max=62370\n",
        "y_min=11720\n",
        "y_max=13385\n",
        "\"\"\"\n",
        "x_range=x_max-x_min\n",
        "y_range=y_max-y_min\n",
        "error_count=0\n",
        "for i in range(x_range):\n",
        "    for j in range(y_range):\n",
        "        try:\n",
        "            tile_x=i+x_min\n",
        "            tile_y=j+y_min\n",
        "            img_number=str(z)+\"/\"+str(tile_x)+\"/\"+str(tile_y)\n",
        "            url = \"https://disaportaldata.gsi.go.jp/raster/01_flood_l2_shinsuishin_data/\"+img_number+\".png\"\n",
        "            img_saved = \"img/\"+str(tile_x)+\"_\"+str(tile_y)+\".png\"\n",
        "            response = requests.get(url)\n",
        "            image = response.content\n",
        "            with open(img_saved, \"wb\") as aaa:\n",
        "                aaa.write(image)\n",
        "        except:\n",
        "            print('Error')\n",
        "            error_count+=1\n",
        "        print(\"i:\"+str(i))\n",
        "        print(\"j:\"+str(j))\n",
        "print(\"finish\")"
      ],
      "execution_count": null,
      "outputs": []
    },
    {
      "cell_type": "code",
      "metadata": {
        "id": "0DbZiz3Xkctv"
      },
      "source": [
        "import torch\n",
        "class ImageData(torch.utils.data.Dataset):\n",
        "\n",
        "    def __init__(self, image_dir, H, W, class_num):\n",
        "        self.H = H; self.W = W; self.class_num = class_num\n",
        "        self.image_num = len(images)\n",
        "        self.image_dir = image_dir\n",
        "\n",
        "    def __len__(self):\n",
        "        return self.image_num\n",
        "\n",
        "    def __getitem__(self, idx):\n",
        "        out_image = self.images[idx]\n",
        "        return out_image\n",
        "\n",
        "batch_size, H, W, class_num = bs, 256, 256, 7\n",
        "dataset = ImageData(image_dir, H, W, class_num)\n",
        "dataloader = torch.utils.data.DataLoader(dataset, batch_size, shuffle=True)\n",
        "\n",
        "for i in dataloader:\n",
        "    print(i)"
      ],
      "execution_count": null,
      "outputs": []
    },
    {
      "cell_type": "markdown",
      "metadata": {
        "id": "RyNp_mY_As_j"
      },
      "source": [
        "- [255 145 145 255] : 3 赤 5~10mm\n",
        "- [255 183 183 255] : 2 薄い赤 3~5mm\n",
        "- [247 245 169 255] : 0 黄色　　０．５m未満\n",
        "- [255 216 192 255] : 1 橙色 0.5~3mm\n",
        "- [0 0 0 0] : 6 黒　不明\n",
        "- [242 133 201 255] : 4 うす紫 10~20mm\n"
      ]
    }
  ]
}